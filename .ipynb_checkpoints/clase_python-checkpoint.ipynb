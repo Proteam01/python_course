{
 "cells": [
  {
   "cell_type": "markdown",
   "id": "5c8f9a1c-b0bc-4973-a009-51f5d4d7f84c",
   "metadata": {
    "tags": []
   },
   "source": [
    "# 1. Variables\n"
   ]
  },
  {
   "cell_type": "code",
   "execution_count": 10,
   "id": "2cd46131-1c15-43f8-8739-6ec09aca541c",
   "metadata": {
    "tags": []
   },
   "outputs": [],
   "source": [
    "_var = 1\n",
    "_Var = \"hola\"\n",
    "VAR = 2\n",
    "aii2 = 3\n",
    "my_var = \"my variable\"\n",
    "hello = 'Hello World!'\n",
    "number = 23"
   ]
  },
  {
   "cell_type": "code",
   "execution_count": 8,
   "id": "fba321a7-787c-4271-b304-8811589d88d0",
   "metadata": {
    "tags": []
   },
   "outputs": [
    {
     "name": "stdout",
     "output_type": "stream",
     "text": [
      "hola\n"
     ]
    }
   ],
   "source": [
    "print(_Var)"
   ]
  },
  {
   "cell_type": "markdown",
   "id": "53cc1f7f-6c75-4feb-8d91-00be271bc42b",
   "metadata": {},
   "source": [
    "# imprimir hola mundo."
   ]
  },
  {
   "cell_type": "code",
   "execution_count": 4,
   "id": "2de97e42-3d14-499f-a6d0-0e9c71d186bc",
   "metadata": {
    "tags": []
   },
   "outputs": [
    {
     "name": "stdout",
     "output_type": "stream",
     "text": [
      "Hello World!\n"
     ]
    }
   ],
   "source": [
    "print(hello)"
   ]
  },
  {
   "cell_type": "markdown",
   "id": "a325bd07-fcba-49a2-8d30-24e184247291",
   "metadata": {},
   "source": [
    "# imprimir numero"
   ]
  },
  {
   "cell_type": "code",
   "execution_count": 7,
   "id": "cc08092b-0933-4e88-a1db-32e4d7dde3b3",
   "metadata": {
    "tags": []
   },
   "outputs": [
    {
     "name": "stdout",
     "output_type": "stream",
     "text": [
      "23\n"
     ]
    }
   ],
   "source": [
    "print(number)"
   ]
  },
  {
   "cell_type": "markdown",
   "id": "5e5f54fb-551e-4e01-8499-e438adba7e43",
   "metadata": {},
   "source": [
    "# 2. tipos de datos"
   ]
  },
  {
   "cell_type": "code",
   "execution_count": 16,
   "id": "f08a199f-f9e0-4825-a821-459e33591429",
   "metadata": {
    "tags": []
   },
   "outputs": [
    {
     "name": "stdout",
     "output_type": "stream",
     "text": [
      "tipo string\n",
      "<class 'str'>\n",
      "imprimir tipo entero\n",
      "<class 'int'>\n",
      "imprimir tipo flotante\n",
      "<class 'float'>\n",
      "imprimir tipo booleano\n",
      "<class 'bool'>\n",
      "<class 'NoneType'>\n"
     ]
    }
   ],
   "source": [
    "str01 = 'string'\n",
    "print(\"tipo string\")\n",
    "print(type(str01))\n",
    "num01 = 1\n",
    "print(\"imprimir tipo entero\")\n",
    "print(type(num01))\n",
    "num02 = 2.2\n",
    "print(\"imprimir tipo flotante\")\n",
    "print(type(num02))\n",
    "tf = False\n",
    "print('imprimir tipo booleano')\n",
    "print(type(tf))\n",
    "nulo = None\n",
    "print(type(nulo))"
   ]
  },
  {
   "cell_type": "markdown",
   "id": "4b64f0fc-3477-489a-b22e-9fa9c404f7bb",
   "metadata": {},
   "source": [
    "# 3. Cadenas"
   ]
  },
  {
   "cell_type": "code",
   "execution_count": 25,
   "id": "c5ffb540-312f-4f48-ad8b-b1ab97698bdb",
   "metadata": {
    "tags": []
   },
   "outputs": [
    {
     "name": "stdout",
     "output_type": "stream",
     "text": [
      "concatenacion\n",
      "string1 string2\n",
      "line1\n",
      "line2\n",
      "line3\n",
      "hello luis\n",
      "number: 23\n",
      "cadena 355\n",
      "dlrow olleh\n"
     ]
    }
   ],
   "source": [
    "str01 = \"string1\"\n",
    "str02 = 'string2'\n",
    "print('concatenacion')\n",
    "print (str01+' '+str02)\n",
    "\n",
    "str03 = \"\"\"line1\n",
    "line2\n",
    "line3\"\"\"\n",
    "\n",
    "print(str03)\n",
    "\n",
    "name = 'luis'\n",
    "\n",
    "hello = f\"hello {name}\"\n",
    "\n",
    "print(hello)\n",
    "\n",
    "number1 = 23\n",
    "\n",
    "str2 = f'number: {number1}'\n",
    "\n",
    "print(str2)\n",
    "\n",
    "num04 = 55\n",
    "cad = f\"cadena 3{num04}\"\n",
    "print(cad)\n",
    "\n",
    "hello2 = \"hello world\"[::-1]\n",
    "print(hello2)\n"
   ]
  },
  {
   "cell_type": "markdown",
   "id": "54ee4c2a-c81b-4940-9f89-3d282fffbdce",
   "metadata": {},
   "source": [
    "# 4. Operadores"
   ]
  },
  {
   "cell_type": "markdown",
   "id": "9384dbe9-6030-46a8-9d6a-f1c7ba2600ca",
   "metadata": {},
   "source": [
    "## asignacion"
   ]
  },
  {
   "cell_type": "code",
   "execution_count": 26,
   "id": "e439cd91-1324-4424-b562-037961423b09",
   "metadata": {
    "tags": []
   },
   "outputs": [
    {
     "name": "stdout",
     "output_type": "stream",
     "text": [
      "asignacion\n",
      "8\n"
     ]
    }
   ],
   "source": [
    "age = 8\n",
    "print('asignacion')\n",
    "print(age)"
   ]
  },
  {
   "cell_type": "markdown",
   "id": "446aef1a-3aa1-485b-81b9-c9f8e1b7cfbd",
   "metadata": {},
   "source": [
    "# operadores matematicos"
   ]
  },
  {
   "cell_type": "code",
   "execution_count": 30,
   "id": "b9bb646c-cdf7-4a0a-b642-1c4018b01799",
   "metadata": {
    "tags": []
   },
   "outputs": [
    {
     "name": "stdout",
     "output_type": "stream",
     "text": [
      "suma\n",
      "5\n",
      "resta\n",
      "1\n",
      "multiplicacion\n",
      "6\n",
      "division\n",
      "4.0\n",
      "modulo\n",
      "1\n",
      "exponencial\n",
      "8\n",
      "division entera\n",
      "2\n",
      "bitwise\n",
      "1048576\n"
     ]
    }
   ],
   "source": [
    "print('suma')\n",
    "print(2+3)\n",
    "print('resta')\n",
    "print( 2 - 1 )\n",
    "print('multiplicacion')\n",
    "print(2 * 3)\n",
    "print('division')\n",
    "print( 8/2 )\n",
    "print('modulo')\n",
    "print(4 % 3)\n",
    "print('exponencial')\n",
    "print(2**3)\n",
    "print('division entera')\n",
    "print(5//2)\n",
    "print('bitwise')\n",
    "print(1<<20)"
   ]
  },
  {
   "cell_type": "code",
   "execution_count": 16,
   "id": "5fec2986-7967-43d2-9216-6e1ec1bccbf4",
   "metadata": {
    "tags": []
   },
   "outputs": [
    {
     "name": "stdout",
     "output_type": "stream",
     "text": [
      "False\n",
      "True\n",
      "False\n",
      "True\n"
     ]
    }
   ],
   "source": [
    "# operadores comparativos\n",
    "\n",
    "a = 1\n",
    "b = 2\n",
    "\n",
    "print(a == b)\n",
    "print(a != b)\n",
    "print(a > b)\n",
    "print(a <= b)"
   ]
  },
  {
   "cell_type": "markdown",
   "id": "5d6d1482-c5b5-48d3-a144-f22739ef4a91",
   "metadata": {},
   "source": [
    "## operadores booleanos"
   ]
  },
  {
   "cell_type": "code",
   "execution_count": 34,
   "id": "6e2ec11c-7108-430d-8ac0-e12c738330f1",
   "metadata": {
    "tags": []
   },
   "outputs": [
    {
     "name": "stdout",
     "output_type": "stream",
     "text": [
      "False\n",
      "True\n",
      "True\n"
     ]
    }
   ],
   "source": [
    "condicion1 = False\n",
    "condicion2 = True\n",
    "print( condicion1 & condicion2 )\n",
    "print( condicion1 | condicion2 )\n",
    "print( not condicion1 )"
   ]
  },
  {
   "cell_type": "markdown",
   "id": "5511a224-c8f4-4035-9467-cf3109881b05",
   "metadata": {},
   "source": [
    "# 5. sentencias de control"
   ]
  },
  {
   "cell_type": "markdown",
   "id": "97bc449a-aba8-4bdf-a417-e9ac14b3c9f6",
   "metadata": {},
   "source": [
    "## if"
   ]
  },
  {
   "cell_type": "code",
   "execution_count": 36,
   "id": "61c22c7a-9a12-4f00-8940-016e1f4b9214",
   "metadata": {
    "tags": []
   },
   "outputs": [],
   "source": [
    "condicion1 = False\n",
    "if condicion1:\n",
    "    print('Verdadero')"
   ]
  },
  {
   "cell_type": "markdown",
   "id": "d53c04c9-d4b5-4f38-998b-f7bc10a7f284",
   "metadata": {
    "tags": []
   },
   "source": [
    "## else"
   ]
  },
  {
   "cell_type": "code",
   "execution_count": 52,
   "id": "21199d7a-4de0-4887-b1b2-719074151a8c",
   "metadata": {
    "tags": []
   },
   "outputs": [
    {
     "name": "stdout",
     "output_type": "stream",
     "text": [
      "Falso\n"
     ]
    }
   ],
   "source": [
    "condicion2 = False\n",
    "if 'condicion3' in locals():\n",
    "    print(condicion2)\n",
    "    print('Verdadero')\n",
    "else:\n",
    "    print('Falso')"
   ]
  },
  {
   "cell_type": "markdown",
   "id": "7c5534f8-5d85-4908-8b41-0e6ac96229b5",
   "metadata": {},
   "source": [
    "## elif"
   ]
  },
  {
   "cell_type": "code",
   "execution_count": 37,
   "id": "30cc390b-a17f-4867-8642-3e10b14f729e",
   "metadata": {
    "tags": []
   },
   "outputs": [
    {
     "name": "stdout",
     "output_type": "stream",
     "text": [
      "Valor 3\n"
     ]
    }
   ],
   "source": [
    "number = 3\n",
    "if number == 0:\n",
    "    print('Valor 0')\n",
    "elif number == 2:\n",
    "    print('Valor 2')\n",
    "elif number == 3:\n",
    "    print('Valor 3')\n",
    "else:\n",
    "    print('otro valor')"
   ]
  },
  {
   "cell_type": "markdown",
   "id": "a193b34b-2c9c-40c7-9087-91069bec4b36",
   "metadata": {
    "tags": []
   },
   "source": [
    "## 6. ciclos"
   ]
  },
  {
   "cell_type": "code",
   "execution_count": 53,
   "id": "f41d99c3-c983-496d-a130-c9d31235480a",
   "metadata": {
    "tags": []
   },
   "outputs": [
    {
     "name": "stdout",
     "output_type": "stream",
     "text": [
      "0\n",
      "1\n",
      "2\n",
      "3\n",
      "4\n",
      "5\n",
      "6\n",
      "7\n",
      "8\n",
      "9\n"
     ]
    }
   ],
   "source": [
    "# for loop\n",
    "for i in range(10):\n",
    "    print(i)"
   ]
  },
  {
   "cell_type": "code",
   "execution_count": 31,
   "id": "7a281c29-1b5b-492a-a206-9eb8035b9cc9",
   "metadata": {
    "tags": []
   },
   "outputs": [
    {
     "name": "stdout",
     "output_type": "stream",
     "text": [
      "0\n",
      "1\n",
      "2\n",
      "3\n",
      "4\n",
      "5\n",
      "6\n",
      "7\n",
      "8\n",
      "9\n"
     ]
    }
   ],
   "source": [
    "# while loop\n",
    "condicion = True\n",
    "index = 0\n",
    "while condicion:\n",
    "    print(index)\n",
    "    index+=1\n",
    "    if index == 10:\n",
    "        condicion = False\n",
    "        "
   ]
  },
  {
   "cell_type": "markdown",
   "id": "4129cb47-9cf7-426a-9e40-1ebd8d5cb926",
   "metadata": {},
   "source": [
    "# 7. colecciones"
   ]
  },
  {
   "cell_type": "markdown",
   "id": "18680b1a-8ed2-4c4e-8ca1-27d6d84f1234",
   "metadata": {},
   "source": [
    "## lista"
   ]
  },
  {
   "cell_type": "code",
   "execution_count": 55,
   "id": "796ef6a5-1f83-449a-92c4-0031a43a056f",
   "metadata": {
    "tags": []
   },
   "outputs": [
    {
     "name": "stdout",
     "output_type": "stream",
     "text": [
      "[1, 2, 3, 4, 5, 6, 7, 7]\n",
      "['ab', 'cd']\n",
      "1\n",
      "2\n",
      "3\n",
      "4\n",
      "5\n",
      "6\n",
      "7\n",
      "7\n"
     ]
    }
   ],
   "source": [
    "lista1 = [1,2,3,4,5,6]\n",
    "lista1.append(7)\n",
    "lista1.append(7)\n",
    "print(lista1)\n",
    "lista2 = ['ab','cd']\n",
    "print(lista2)\n",
    "for el in lista1:\n",
    "    print(el)"
   ]
  },
  {
   "cell_type": "markdown",
   "id": "e44f8eaf-b69f-4424-bf2e-459cb03ee231",
   "metadata": {},
   "source": [
    "## tupla"
   ]
  },
  {
   "cell_type": "code",
   "execution_count": 12,
   "id": "f4fc4729-5bbb-4e7b-ad3b-787a8a4e7197",
   "metadata": {
    "tags": []
   },
   "outputs": [
    {
     "name": "stdout",
     "output_type": "stream",
     "text": [
      "(1, 2, 3, 4)\n",
      "('a', 1, 'b', 2)\n",
      "1\n",
      "2\n",
      "3\n",
      "4\n"
     ]
    }
   ],
   "source": [
    "tupla = (1,2,3,4)\n",
    "print(tupla)\n",
    "tupla2 = ('a',1,'b',2)\n",
    "print(tupla2)\n",
    "for el in tupla:\n",
    "    print(el)"
   ]
  },
  {
   "cell_type": "markdown",
   "id": "397cb2b1-386c-4fa4-99f6-70a8b139384d",
   "metadata": {},
   "source": [
    "## sets"
   ]
  },
  {
   "cell_type": "code",
   "execution_count": 57,
   "id": "2feae475-ac27-4a79-b3ac-59f67bd203e3",
   "metadata": {
    "tags": []
   },
   "outputs": [
    {
     "name": "stdout",
     "output_type": "stream",
     "text": [
      "{'b', 'c', 'a'}\n"
     ]
    }
   ],
   "source": [
    "set1 = {'a','b'}\n",
    "set1.add('c')\n",
    "print(set1)"
   ]
  },
  {
   "cell_type": "markdown",
   "id": "4cd58ff4-3d32-49ba-af88-fd10f9d5dcff",
   "metadata": {
    "tags": []
   },
   "source": [
    "## diccionario"
   ]
  },
  {
   "cell_type": "code",
   "execution_count": 58,
   "id": "9155ed0b-7897-4651-9e18-129b6892b4bd",
   "metadata": {
    "tags": []
   },
   "outputs": [
    {
     "name": "stdout",
     "output_type": "stream",
     "text": [
      "Luis\n",
      "key: nombre, value: Luis\n",
      "key: edad, value: 28\n",
      "key: trabaja, value: True\n",
      "{'k': 1}\n"
     ]
    }
   ],
   "source": [
    "diccionario = {'nombre': 'Luis','edad': 28,'trabaja': True}\n",
    "print(diccionario['nombre'])\n",
    "for key in diccionario.keys():\n",
    "    print(f'key: {key}, value: {diccionario[key]}')\n",
    "\n",
    "diccionario2 = dict()\n",
    "diccionario2['k'] = 1\n",
    "print(diccionario2)"
   ]
  },
  {
   "cell_type": "markdown",
   "id": "cafab883-9cf7-4564-aa8a-800a66d13bd7",
   "metadata": {},
   "source": [
    "# 8. functiones"
   ]
  },
  {
   "cell_type": "code",
   "execution_count": 61,
   "id": "21600f63-647b-48d9-9d5e-8ce0df1c83d2",
   "metadata": {
    "tags": []
   },
   "outputs": [
    {
     "name": "stdout",
     "output_type": "stream",
     "text": [
      "en la funcion 1\n",
      "Hello, False\n"
     ]
    }
   ],
   "source": [
    "def function1():\n",
    "    print('en la funcion 1')\n",
    "    \n",
    "function1()\n",
    "\n",
    "def hello(name: str):\n",
    "    print(f'Hello, {name}')\n",
    "    \n",
    "hello(False)"
   ]
  },
  {
   "cell_type": "markdown",
   "id": "4a96aa5d-cb74-4629-8116-903c13ba3237",
   "metadata": {
    "tags": []
   },
   "source": [
    "# 9. clases"
   ]
  },
  {
   "cell_type": "code",
   "execution_count": 64,
   "id": "6d2761b1-bd87-4a18-9d0c-fc7faf4da92a",
   "metadata": {
    "tags": []
   },
   "outputs": [
    {
     "name": "stdout",
     "output_type": "stream",
     "text": [
      "Name: Luis, age: 25, gender: M\n",
      "Luis is walking...\n",
      "Fido is walking...\n",
      "Mike Perruno is walking...\n",
      "Mike Perruno is barking...\n",
      "Mike Perruno is running a bike...\n"
     ]
    }
   ],
   "source": [
    "class Animal:\n",
    "    \n",
    "    def walk(self):\n",
    "        print(f'{self.name} is walking...')\n",
    "        \n",
    "    def sleep(self):\n",
    "        print(f'{self.name} is sleeping...')\n",
    "\n",
    "\n",
    "class Person(Animal):\n",
    "    name = ''\n",
    "    age = 0\n",
    "    gender = ''\n",
    "    \n",
    "    def __init__(self,name,age,gender):\n",
    "        self.name = name\n",
    "        self.age = age\n",
    "        self.gender = gender\n",
    "    \n",
    "    def __str__(self):\n",
    "        return f'Name: {self.name}, age: {self.age}, gender: {self.gender}'\n",
    "    \n",
    "    \n",
    "    def run_bike(self):\n",
    "        print(f'{self.name} is running a bike...')\n",
    "\n",
    "    \n",
    "class Dog(Animal):\n",
    "    name = ''\n",
    "    age  = 0\n",
    "    \n",
    "    def __init__(self,name,age):\n",
    "        self.name = name\n",
    "        self.age = age\n",
    "    \n",
    "    def bark(self):\n",
    "        print(f'{self.name} is barking...')\n",
    "    \n",
    "    \n",
    "class DogPerson(Person,Dog):\n",
    "    \n",
    "    def __init__(self,name,age,gender):\n",
    "        self.name = name\n",
    "        self.age = age\n",
    "        self.gender = gender\n",
    "    \n",
    "    \n",
    "person = Person('Luis',25,'M')\n",
    "print(person)\n",
    "person.walk()\n",
    "\n",
    "dog = Dog('Fido',7)\n",
    "dog.walk()\n",
    "\n",
    "dog_person = DogPerson('Mike Perruno',17,'M')\n",
    "dog_person.walk()\n",
    "dog_person.bark()\n",
    "dog_person.run_bike()"
   ]
  }
 ],
 "metadata": {
  "kernelspec": {
   "display_name": "Python 3 (ipykernel)",
   "language": "python",
   "name": "python3"
  },
  "language_info": {
   "codemirror_mode": {
    "name": "ipython",
    "version": 3
   },
   "file_extension": ".py",
   "mimetype": "text/x-python",
   "name": "python",
   "nbconvert_exporter": "python",
   "pygments_lexer": "ipython3",
   "version": "3.10.9"
  }
 },
 "nbformat": 4,
 "nbformat_minor": 5
}
