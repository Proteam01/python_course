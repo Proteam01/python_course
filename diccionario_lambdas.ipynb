{
 "cells": [
  {
   "cell_type": "code",
   "execution_count": 6,
   "id": "cb6e74a9-4e03-4e7c-ac98-ed400f216219",
   "metadata": {},
   "outputs": [
    {
     "name": "stdout",
     "output_type": "stream",
     "text": [
      "1.5\n"
     ]
    }
   ],
   "source": [
    "x,y = 3,2\n",
    "operacion_matematica = '/'\n",
    "operaciones = {\n",
    "    '+': lambda x,y: x+y,\n",
    "    '-': lambda x,y: x-y,\n",
    "    '*': lambda x,y: x*y,\n",
    "    '/': lambda x,y: x/y\n",
    "}\n",
    "operacion = operaciones[operacion_matematica]\n",
    "print(operacion(x,y))\n",
    "# print(type(operacion))"
   ]
  }
 ],
 "metadata": {
  "kernelspec": {
   "display_name": "Python 3 (ipykernel)",
   "language": "python",
   "name": "python3"
  },
  "language_info": {
   "codemirror_mode": {
    "name": "ipython",
    "version": 3
   },
   "file_extension": ".py",
   "mimetype": "text/x-python",
   "name": "python",
   "nbconvert_exporter": "python",
   "pygments_lexer": "ipython3",
   "version": "3.10.9"
  }
 },
 "nbformat": 4,
 "nbformat_minor": 5
}
